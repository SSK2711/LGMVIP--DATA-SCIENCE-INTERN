{
  "cells": [
    {
      "cell_type": "markdown",
      "metadata": {
        "id": "J56bUe4avI8m"
      },
      "source": [
        "LGMVIP - Data Science (April 2022)\n",
        "\n",
        "NAME : SHREYAS KSHIRSAGAR\n",
        "\n",
        "Task 7) Develop A Neural Network That Can Read Handwritting\n",
        "\n",
        "Dataset Link : http://en.wikipedia.org/wiki/MNIST_database"
      ]
    },
    {
      "cell_type": "markdown",
      "metadata": {
        "id": "2ag5-vOMfCxi"
      },
      "source": [
        "Import these libraries"
      ]
    },
    {
      "cell_type": "code",
      "execution_count": null,
      "metadata": {
        "id": "GOdD67p9eiEV"
      },
      "outputs": [],
      "source": [
        "import numpy as np\n",
        "import pandas as pd\n",
        "import matplotlib.pyplot as plt\n",
        "import seaborn as sns\n",
        "import warnings \n",
        "warnings.filterwarnings('ignore')\n",
        "from keras.utils import np_utils\n",
        "from keras.models import Sequential \n",
        "from keras.layers import Dense, Dropout, BatchNormalization\n",
        "from keras.layers import Conv2D, MaxPooling2D, Flatten\n",
        "from keras.datasets import mnist"
      ]
    },
    {
      "cell_type": "code",
      "execution_count": null,
      "metadata": {
        "colab": {
          "base_uri": "https://localhost:8080/"
        },
        "id": "OW6QtnCyfCKI",
        "outputId": "089b42da-51fc-4873-b2e7-adc1f217cb96"
      },
      "outputs": [
        {
          "output_type": "stream",
          "name": "stdout",
          "text": [
            "2.8.0\n",
            "2.8.0\n"
          ]
        }
      ],
      "source": [
        "import tensorflow as tf\n",
        "from tensorflow import keras\n",
        "print(tf.__version__)\n",
        "print(keras.__version__)"
      ]
    },
    {
      "cell_type": "markdown",
      "metadata": {
        "id": "O1bj_XFpfcm6"
      },
      "source": [
        "### Load the Data"
      ]
    },
    {
      "cell_type": "code",
      "execution_count": null,
      "metadata": {
        "id": "LC9UkQXefUj4",
        "colab": {
          "base_uri": "https://localhost:8080/"
        },
        "outputId": "65789405-6160-476f-96c6-65efff46c5e6"
      },
      "outputs": [
        {
          "output_type": "stream",
          "name": "stdout",
          "text": [
            "Downloading data from https://storage.googleapis.com/tensorflow/tf-keras-datasets/mnist.npz\n",
            "11493376/11490434 [==============================] - 0s 0us/step\n",
            "11501568/11490434 [==============================] - 0s 0us/step\n"
          ]
        }
      ],
      "source": [
        "(X_train, y_train), (X_test, y_test) = mnist.load_data()"
      ]
    },
    {
      "cell_type": "code",
      "execution_count": null,
      "metadata": {
        "colab": {
          "base_uri": "https://localhost:8080/"
        },
        "id": "yylIphOCfhdt",
        "outputId": "5b0a8d86-1b51-4544-acd1-70bcbfbf9b22"
      },
      "outputs": [
        {
          "output_type": "execute_result",
          "data": {
            "text/plain": [
              "(60000, 28, 28)"
            ]
          },
          "metadata": {},
          "execution_count": 4
        }
      ],
      "source": [
        "X_train.shape"
      ]
    },
    {
      "cell_type": "code",
      "execution_count": null,
      "metadata": {
        "colab": {
          "base_uri": "https://localhost:8080/",
          "height": 499
        },
        "id": "2etQJqZDOMjt",
        "outputId": "06f4fcaf-09d0-47c2-975d-a1f65334bb48"
      },
      "outputs": [
        {
          "output_type": "display_data",
          "data": {
            "text/plain": [
              "<Figure size 720x576 with 9 Axes>"
            ],
            "image/png": "[encoded data removed]"
          },
          "metadata": {
            "needs_background": "light"
          }
        }
      ],
      "source": [
        "plt.figure(figsize=(10, 8))\n",
        "np.random.seed(0)\n",
        "idx = np.random.randint(0, 60000, 9)\n",
        "\n",
        "for i in range(len(idx)):\n",
        "    plt.subplot(3, 3, i+1)\n",
        "    plt.title(y_train[idx[i]])\n",
        "    grid_data = np.reshape(X_train[idx[i]], (28,28))\n",
        "    plt.imshow(grid_data, cmap='gray')"
      ]
    },
    {
      "cell_type": "markdown",
      "metadata": {
        "id": "eMJs7-s2fr8H"
      },
      "source": [
        "# Data Preprocessing"
      ]
    },
    {
      "cell_type": "code",
      "execution_count": null,
      "metadata": {
        "id": "WEUwHOLRfkgM"
      },
      "outputs": [],
      "source": [
        "X_train = X_train.astype('float32')\n",
        "X_test = X_test.astype('float32')\n",
        "X_train = X_train/255\n",
        "X_test = X_test/255\n",
        "X_train = X_train.reshape(60000, 28, 28, 1)\n",
        "X_test = X_test.reshape(10000, 28, 28, 1)"
      ]
    },
    {
      "cell_type": "code",
      "execution_count": null,
      "metadata": {
        "colab": {
          "base_uri": "https://localhost:8080/"
        },
        "id": "v6C2JJCMfo_H",
        "outputId": "55c1bf8b-ef45-4c38-b85f-d59ac4bf2e37"
      },
      "outputs": [
        {
          "output_type": "stream",
          "name": "stdout",
          "text": [
            "Class label of first image : 5\n",
            "After converting the output into a vector :  [0. 0. 0. 0. 0. 1. 0. 0. 0. 0.]\n"
          ]
        }
      ],
      "source": [
        "print(\"Class label of first image :\", y_train[0])\n",
        "Y_train = np_utils.to_categorical(y_train, 10) \n",
        "Y_test = np_utils.to_categorical(y_test, 10)\n",
        "print(\"After converting the output into a vector : \",Y_train[0])"
      ]
    },
    {
      "cell_type": "markdown",
      "metadata": {
        "id": "2BKs_8lFf1-5"
      },
      "source": [
        "# Building the Model"
      ]
    },
    {
      "cell_type": "code",
      "execution_count": null,
      "metadata": {
        "colab": {
          "base_uri": "https://localhost:8080/"
        },
        "id": "nz8JFHkvf1aP",
        "outputId": "97f5fb51-1729-4a94-a231-5112a6c4208a"
      },
      "outputs": [
        {
          "output_type": "stream",
          "name": "stdout",
          "text": [
            "Epoch 1/20\n",
            "469/469 [==============================] - 18s 16ms/step - loss: 0.2862 - accuracy: 0.9143\n",
            "Epoch 2/20\n",
            "469/469 [==============================] - 7s 16ms/step - loss: 0.1066 - accuracy: 0.9688\n",
            "Epoch 3/20\n",
            "469/469 [==============================] - 7s 16ms/step - loss: 0.0787 - accuracy: 0.9766\n",
            "Epoch 4/20\n",
            "469/469 [==============================] - 8s 17ms/step - loss: 0.0653 - accuracy: 0.9803\n",
            "Epoch 5/20\n",
            "469/469 [==============================] - 8s 16ms/step - loss: 0.0548 - accuracy: 0.9824\n",
            "Epoch 6/20\n",
            "469/469 [==============================] - 7s 16ms/step - loss: 0.0478 - accuracy: 0.9847\n",
            "Epoch 7/20\n",
            "469/469 [==============================] - 7s 16ms/step - loss: 0.0409 - accuracy: 0.9865\n",
            "Epoch 8/20\n",
            "469/469 [==============================] - 7s 16ms/step - loss: 0.0388 - accuracy: 0.9878\n",
            "Epoch 9/20\n",
            "469/469 [==============================] - 7s 16ms/step - loss: 0.0331 - accuracy: 0.9890\n",
            "Epoch 10/20\n",
            "469/469 [==============================] - 7s 16ms/step - loss: 0.0311 - accuracy: 0.9897\n",
            "Epoch 11/20\n",
            "469/469 [==============================] - 7s 16ms/step - loss: 0.0280 - accuracy: 0.9908\n",
            "Epoch 12/20\n",
            "469/469 [==============================] - 7s 16ms/step - loss: 0.0267 - accuracy: 0.9919\n",
            "Epoch 13/20\n",
            "469/469 [==============================] - 7s 16ms/step - loss: 0.0256 - accuracy: 0.9917\n",
            "Epoch 14/20\n",
            "469/469 [==============================] - 7s 16ms/step - loss: 0.0222 - accuracy: 0.9923\n",
            "Epoch 15/20\n",
            "469/469 [==============================] - 7s 16ms/step - loss: 0.0207 - accuracy: 0.9929\n",
            "Epoch 16/20\n",
            "469/469 [==============================] - 7s 16ms/step - loss: 0.0199 - accuracy: 0.9933\n",
            "Epoch 17/20\n",
            "469/469 [==============================] - 7s 16ms/step - loss: 0.0191 - accuracy: 0.9937\n",
            "Epoch 18/20\n",
            "469/469 [==============================] - 7s 16ms/step - loss: 0.0179 - accuracy: 0.9940\n",
            "Epoch 19/20\n",
            "469/469 [==============================] - 7s 16ms/step - loss: 0.0186 - accuracy: 0.9937\n",
            "Epoch 20/20\n",
            "469/469 [==============================] - 8s 17ms/step - loss: 0.0168 - accuracy: 0.9942\n"
          ]
        },
        {
          "output_type": "execute_result",
          "data": {
            "text/plain": [
              "<keras.callbacks.History at 0x7fedb02758d0>"
            ]
          },
          "metadata": {},
          "execution_count": 8
        }
      ],
      "source": [
        "model = None\n",
        "model = Sequential()\n",
        "model.add(Conv2D(32, kernel_size=(3, 3), padding='same', input_shape=(28, 28, 1), activation='relu', kernel_initializer='he_normal'))\n",
        "model.add(Conv2D(64, (3, 3), activation='relu', kernel_initializer='he_normal'))\n",
        "model.add(MaxPooling2D(pool_size=(2, 2)))\n",
        "model.add(Dropout(0.25))\n",
        "model.add(Flatten())\n",
        "model.add(Dense(128, activation='relu', kernel_initializer='he_normal'))\n",
        "model.add(Dropout(0.5))\n",
        "model.add(Dense(10, activation='softmax'))\n",
        "model.compile(optimizer='adam', loss='categorical_crossentropy', metrics=['accuracy'])\n",
        "model.fit(X_train, Y_train, batch_size=128, epochs=20)"
      ]
    },
    {
      "cell_type": "code",
      "execution_count": null,
      "metadata": {
        "colab": {
          "base_uri": "https://localhost:8080/"
        },
        "id": "4G1lQBKifxTB",
        "outputId": "426354f6-128e-4d21-be6d-631788d955b8"
      },
      "outputs": [
        {
          "output_type": "stream",
          "name": "stdout",
          "text": [
            "Test Loss and Test Accuracy [0.03225725516676903, 0.9919999837875366]\n"
          ]
        }
      ],
      "source": [
        "prediction_score = model.evaluate(X_test, Y_test, verbose=0)\n",
        "print('Test Loss and Test Accuracy', prediction_score)"
      ]
    },
    {
      "cell_type": "code",
      "execution_count": null,
      "metadata": {
        "id": "IjEgppYiXnaY"
      },
      "outputs": [],
      "source": [
        "from keras.preprocessing import image"
      ]
    },
    {
      "cell_type": "code",
      "execution_count": null,
      "metadata": {
        "colab": {
          "base_uri": "https://localhost:8080/",
          "height": 282
        },
        "id": "Rtdsx5HWXxAj",
        "outputId": "bf9715e6-b4ce-4d7c-db83-9410a33979f9"
      },
      "outputs": [
        {
          "output_type": "execute_result",
          "data": {
            "text/plain": [
              "<matplotlib.image.AxesImage at 0x7fed43b3a750>"
            ]
          },
          "metadata": {},
          "execution_count": 11
        },
        {
          "output_type": "display_data",
          "data": {
            "text/plain": [
              "<Figure size 432x288 with 1 Axes>"
            ],
            "image/png": "[encoded data removed]"
          },
          "metadata": {
            "needs_background": "light"
          }
        }
      ],
      "source": [
        "plt.imshow(image.array_to_img(X_test[50]), cmap=\"gray\")"
      ]
    },
    {
      "cell_type": "code",
      "execution_count": null,
      "metadata": {
        "colab": {
          "base_uri": "https://localhost:8080/"
        },
        "id": "8pHoyL4mXxDc",
        "outputId": "a1c3ab75-9ce1-4a20-e110-42a18cc9cdd6",
        "scrolled": true
      },
      "outputs": [
        {
          "output_type": "execute_result",
          "data": {
            "text/plain": [
              "6"
            ]
          },
          "metadata": {},
          "execution_count": 12
        }
      ],
      "source": [
        "y_test[50]"
      ]
    },
    {
      "cell_type": "code",
      "execution_count": null,
      "metadata": {
        "colab": {
          "base_uri": "https://localhost:8080/",
          "height": 282
        },
        "id": "3amiYLpxvI8_",
        "outputId": "363756b9-a5c0-4d29-c2da-bb785dcac8b7"
      },
      "outputs": [
        {
          "output_type": "execute_result",
          "data": {
            "text/plain": [
              "<matplotlib.image.AxesImage at 0x7fedbee09e10>"
            ]
          },
          "metadata": {},
          "execution_count": 13
        },
        {
          "output_type": "display_data",
          "data": {
            "text/plain": [
              "<Figure size 432x288 with 1 Axes>"
            ],
            "image/png": "[encoded data removed]"
          },
          "metadata": {
            "needs_background": "light"
          }
        }
      ],
      "source": [
        "plt.imshow(image.array_to_img(X_test[49]), cmap=\"gray\")"
      ]
    },
    {
      "cell_type": "code",
      "execution_count": null,
      "metadata": {
        "colab": {
          "base_uri": "https://localhost:8080/"
        },
        "id": "M0rQQBMOvI9A",
        "outputId": "becd8701-d45b-490b-e170-1ab2a118b9f0"
      },
      "outputs": [
        {
          "output_type": "execute_result",
          "data": {
            "text/plain": [
              "4"
            ]
          },
          "metadata": {},
          "execution_count": 14
        }
      ],
      "source": [
        "y_test[49]"
      ]
    },
    {
      "cell_type": "code",
      "execution_count": null,
      "metadata": {
        "colab": {
          "base_uri": "https://localhost:8080/",
          "height": 282
        },
        "id": "dC_3naYXvI9A",
        "outputId": "2e2d0b19-b448-43ae-db10-72ce37a03f78"
      },
      "outputs": [
        {
          "output_type": "execute_result",
          "data": {
            "text/plain": [
              "0"
            ]
          },
          "metadata": {},
          "execution_count": 15
        },
        {
          "output_type": "display_data",
          "data": {
            "text/plain": [
              "<Figure size 432x288 with 1 Axes>"
            ],
            "image/png": "[encoded data removed]"
          },
          "metadata": {
            "needs_background": "light"
          }
        }
      ],
      "source": [
        "plt.imshow(image.array_to_img(X_test[69]), cmap=\"gray\")\n",
        "y_test[69]"
      ]
    },
    {
      "cell_type": "code",
      "execution_count": null,
      "metadata": {
        "colab": {
          "base_uri": "https://localhost:8080/"
        },
        "id": "Ch6TvkhWvI9B",
        "outputId": "746d5147-ada8-410d-c47b-1e8d2506e01a"
      },
      "outputs": [
        {
          "output_type": "execute_result",
          "data": {
            "text/plain": [
              "0"
            ]
          },
          "metadata": {},
          "execution_count": 16
        }
      ],
      "source": [
        "y_test[69]"
      ]
    }
  ],
  "metadata": {
    "accelerator": "GPU",
    "colab": {
      "collapsed_sections": [],
      "name": "_LGM_Task7_Neural_Network.ipynb",
      "toc_visible": true,
      "provenance": []
    },
    "kernelspec": {
      "display_name": "Python 3",
      "language": "python",
      "name": "python3"
    },
    "language_info": {
      "codemirror_mode": {
        "name": "ipython",
        "version": 3
      },
      "file_extension": ".py",
      "mimetype": "text/x-python",
      "name": "python",
      "nbconvert_exporter": "python",
      "pygments_lexer": "ipython3",
      "version": "3.8.8"
    }
  },
  "nbformat": 4,
  "nbformat_minor": 0
}